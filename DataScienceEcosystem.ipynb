{
 "cells": [
  {
   "cell_type": "markdown",
   "id": "8edd6628-936c-4a2f-8428-f4bcfb4c278c",
   "metadata": {},
   "source": [
    "# Data Science Tools and Ecosystem"
   ]
  },
  {
   "cell_type": "markdown",
   "id": "e96761b9-7f16-41f5-9e8d-82c515041e01",
   "metadata": {},
   "source": [
    "## In this notebook, Data Science Tools and Ecosystem are summarized."
   ]
  },
  {
   "cell_type": "markdown",
   "id": "3287aaec-16b1-42ce-9f41-fcc01ceaf261",
   "metadata": {},
   "source": [
    "## **the purpose：**\n",
    "- A list of languages ​​commonly used by data scientists\n",
    "- A list of common libraries used by data scientists\n",
    "- Evaluating arithmetic expressions in python"
   ]
  },
  {
   "cell_type": "markdown",
   "id": "61c58670-b65c-4b6a-8b8a-749215ee3ab2",
   "metadata": {},
   "source": [
    "Some of the popular languages that Data Scientists use are:"
   ]
  },
  {
   "cell_type": "markdown",
   "id": "53619871-9835-443d-8b46-85333e665a38",
   "metadata": {},
   "source": [
    "1. Python\n",
    "2. R\n",
    "3. SQL"
   ]
  },
  {
   "cell_type": "markdown",
   "id": "8457925d-356d-4acb-b6cc-450c10ff4f26",
   "metadata": {},
   "source": [
    "Some of the commonly used libraries used by Data Scientists include:"
   ]
  },
  {
   "cell_type": "markdown",
   "id": "43f8569a-1ff6-4886-a0d0-ce1edb0c0581",
   "metadata": {},
   "source": [
    "1. Pandas\n",
    "2. Numpy\n",
    "3. Scikit-learn"
   ]
  },
  {
   "cell_type": "markdown",
   "id": "905b8f40-dba4-43a2-9d1f-04e2dbd52e73",
   "metadata": {},
   "source": [
    "| Data Science Tools |\n",
    "| -------------------- |\n",
    "| Jupyter Notebook / JupyterLab |\n",
    "| VS Code（Visual Studio Code） |\n",
    "| RStudio |"
   ]
  },
  {
   "cell_type": "markdown",
   "id": "9212937b-1c53-4d6f-af89-9c3160e1d96e",
   "metadata": {},
   "source": [
    "### Below are a few examples of evaluating arithmetic expressions in Python"
   ]
  },
  {
   "cell_type": "code",
   "execution_count": 3,
   "id": "e87b42b2-2ff5-4644-a486-d8bed7dc3c36",
   "metadata": {},
   "outputs": [
    {
     "data": {
      "text/plain": [
       "17"
      ]
     },
     "execution_count": 3,
     "metadata": {},
     "output_type": "execute_result"
    }
   ],
   "source": [
    "#This a simple arithmetic expression to mutiply then add integers\n",
    "(3*4)+5"
   ]
  },
  {
   "cell_type": "code",
   "execution_count": 10,
   "id": "0550b6e9-c823-422f-b98c-d9f265970db9",
   "metadata": {},
   "outputs": [
    {
     "data": {
      "text/plain": [
       "3"
      ]
     },
     "execution_count": 10,
     "metadata": {},
     "output_type": "execute_result"
    }
   ],
   "source": [
    "#This will convert 200 minutes to hours by diving by 60\n",
    "200 // 60"
   ]
  },
  {
   "cell_type": "markdown",
   "id": "90236e37-71cd-4ddb-bb79-1822475672df",
   "metadata": {},
   "source": [
    "## Author\n",
    "Keigo Sebata"
   ]
  },
  {
   "cell_type": "code",
   "execution_count": null,
   "id": "19526285-4f11-4b27-9437-2c36158dc9d3",
   "metadata": {},
   "outputs": [],
   "source": []
  }
 ],
 "metadata": {
  "kernelspec": {
   "display_name": "Python 3 (ipykernel)",
   "language": "python",
   "name": "python3"
  },
  "language_info": {
   "codemirror_mode": {
    "name": "ipython",
    "version": 3
   },
   "file_extension": ".py",
   "mimetype": "text/x-python",
   "name": "python",
   "nbconvert_exporter": "python",
   "pygments_lexer": "ipython3",
   "version": "3.12.8"
  }
 },
 "nbformat": 4,
 "nbformat_minor": 5
}
